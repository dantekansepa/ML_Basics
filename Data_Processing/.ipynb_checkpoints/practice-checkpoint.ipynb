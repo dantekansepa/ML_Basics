{
 "cells": [
  {
   "cell_type": "markdown",
   "id": "48539a2b",
   "metadata": {},
   "source": [
    "# DESCRIPTION\n",
    "\n",
    "From the raw data below, create a data frame:\n",
    "\n",
    "‘first_name’: [‘Jason’, ‘Molly’, ‘Tina’, ‘Jake’, ‘Amy’], ‘last_name’: [‘Miller’, ‘Jacobson’, “.”, ‘Milner’,‘Cooze’],\n",
    "\n",
    "‘age’: [42, 52, 36, 24, 73], ‘preTestScore’: [4, 24, 31, “.”, “.”],’postTestScore’: [“25,000”, “94,000”, 57, 62, 70]\n",
    "\n",
    "**Objective:** \n",
    "\n",
    "Perform data processing on the raw data.\n",
    "\n",
    "**Actions to perform:**\n",
    "\n",
    "Save the data frame into a .csv file as project.csv\n",
    "\n",
    "Read the project.csv file and print the data frame.\n",
    "\n",
    "Read the project.csv file without column heading.\n",
    "\n",
    "Read the project.csv file and make two index columns, namely, ‘First Name’ and ‘Last Name’.\n",
    "\n",
    "Print the data frame in a Boolean form as True or False. True for Null/ NaN values and false for non-null values.\n",
    "\n",
    "Read the data frame by skipping the first 3 rows and print the data frame.\n"
   ]
  },
  {
   "cell_type": "code",
   "execution_count": 14,
   "id": "9bc7db5b",
   "metadata": {},
   "outputs": [],
   "source": [
    "import pandas as pd\n",
    "\n",
    "data = {'first_name': ['Jason', 'Molly’, ‘Tina’, ‘Jake’, ‘Amy'], \n",
    "        'last_name': ['Miller’, ‘Jacobson’, “.”, ‘Milner’,‘Cooze'],\n",
    "        'age': [42, 52, 36, 24, 73], \n",
    "        'preTestScore': [4, 24, 31, \".\", \".\"],\n",
    "        'postTestScore': [\"25,000\", \"94,000\", 57, 62, 70]\n",
    "       }"
   ]
  },
  {
   "cell_type": "code",
   "execution_count": null,
   "id": "fc482728",
   "metadata": {},
   "outputs": [],
   "source": []
  },
  {
   "cell_type": "code",
   "execution_count": null,
   "id": "856c2217",
   "metadata": {},
   "outputs": [],
   "source": []
  }
 ],
 "metadata": {
  "kernelspec": {
   "display_name": "Python 3 (ipykernel)",
   "language": "python",
   "name": "python3"
  },
  "language_info": {
   "codemirror_mode": {
    "name": "ipython",
    "version": 3
   },
   "file_extension": ".py",
   "mimetype": "text/x-python",
   "name": "python",
   "nbconvert_exporter": "python",
   "pygments_lexer": "ipython3",
   "version": "3.9.7"
  }
 },
 "nbformat": 4,
 "nbformat_minor": 5
}
