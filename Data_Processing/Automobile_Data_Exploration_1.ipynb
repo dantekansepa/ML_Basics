{
 "cells": [
  {
   "cell_type": "markdown",
   "id": "3cf6145e",
   "metadata": {},
   "source": [
    "# DESCRIPTION\n",
    "\n",
    "Mtcars, an automobile company in Chambersburg, United States, has recorded the production of its cars within a dataset. The company is coming up with a new model based on the feedback given by its customers. It has to explore the current dataset to derive further insights from it.\n",
    " \n",
    "\n",
    "**Objective**: Import the dataset, explore for dimensionality, and type and average value of the horsepower across all the cars. Also, identify a few of mostly correlated features, which would help\n",
    "in modification."
   ]
  },
  {
   "cell_type": "code",
   "execution_count": 1,
   "id": "f901ae27",
   "metadata": {},
   "outputs": [
    {
     "data": {
      "text/plain": [
       "(32, 12)"
      ]
     },
     "execution_count": 1,
     "metadata": {},
     "output_type": "execute_result"
    }
   ],
   "source": [
    "import pandas as pd\n",
    "import numpy as np\n",
    "\n",
    "# Creating the data frame \n",
    "df = pd.read_csv(\"/home/dante/Documents/Python/Data Science/ML_Basics/Data Processing/Datasets/mtcars.csv\")\n",
    "\n",
    "# checking the dimensionality of the data frame \n",
    "df.shape\n"
   ]
  },
  {
   "cell_type": "code",
   "execution_count": 2,
   "id": "4d1f7e57",
   "metadata": {},
   "outputs": [
    {
     "data": {
      "text/plain": [
       "pandas.core.frame.DataFrame"
      ]
     },
     "execution_count": 2,
     "metadata": {},
     "output_type": "execute_result"
    }
   ],
   "source": [
    "#checking the type of the data frame\n",
    "type(df)\n"
   ]
  },
  {
   "cell_type": "code",
   "execution_count": 3,
   "id": "6f5be661",
   "metadata": {},
   "outputs": [
    {
     "data": {
      "text/plain": [
       "146.6875"
      ]
     },
     "execution_count": 3,
     "metadata": {},
     "output_type": "execute_result"
    }
   ],
   "source": [
    "# Getting the average value of the hosepower across \n",
    "# all the cars \n",
    "df['hp'].mean()\n"
   ]
  },
  {
   "cell_type": "markdown",
   "id": "a0b871b8",
   "metadata": {},
   "source": [
    "# Correlation using Seaborn\n",
    "\n",
    "will impoert the required libraries "
   ]
  },
  {
   "cell_type": "code",
   "execution_count": 20,
   "id": "d5359ae0",
   "metadata": {},
   "outputs": [
    {
     "data": {
      "text/plain": [
       "(array([ 0.5,  1.5,  2.5,  3.5,  4.5,  5.5,  6.5,  7.5,  8.5,  9.5, 10.5]),\n",
       " [Text(0.5, 0, 'mpg'),\n",
       "  Text(1.5, 0, 'cyl'),\n",
       "  Text(2.5, 0, 'disp'),\n",
       "  Text(3.5, 0, 'hp'),\n",
       "  Text(4.5, 0, 'drat'),\n",
       "  Text(5.5, 0, 'wt'),\n",
       "  Text(6.5, 0, 'qsec'),\n",
       "  Text(7.5, 0, 'vs'),\n",
       "  Text(8.5, 0, 'am'),\n",
       "  Text(9.5, 0, 'gear'),\n",
       "  Text(10.5, 0, 'carb')])"
      ]
     },
     "execution_count": 20,
     "metadata": {},
     "output_type": "execute_result"
    },
    {
     "data": {
      "image/png": "[encoded data removed]",
      "text/plain": [
       "<Figure size 432x288 with 2 Axes>"
      ]
     },
     "metadata": {
      "needs_background": "light"
     },
     "output_type": "display_data"
    }
   ],
   "source": [
    "import matplotlib.pyplot as plt\n",
    "import seaborn as sns\n",
    "\n",
    "correlations = df.corr()\n",
    "sns.heatmap(data = correlations,square = True, cmap = 'bwr')\n",
    "            \n",
    "plt.yticks(rotation=0)\n",
    "plt.xticks(rotation=90)"
   ]
  },
  {
   "cell_type": "code",
   "execution_count": null,
   "id": "755c15fa",
   "metadata": {},
   "outputs": [],
   "source": []
  }
 ],
 "metadata": {
  "kernelspec": {
   "display_name": "Python 3 (ipykernel)",
   "language": "python",
   "name": "python3"
  },
  "language_info": {
   "codemirror_mode": {
    "name": "ipython",
    "version": 3
   },
   "file_extension": ".py",
   "mimetype": "text/x-python",
   "name": "python",
   "nbconvert_exporter": "python",
   "pygments_lexer": "ipython3",
   "version": "3.9.7"
  }
 },
 "nbformat": 4,
 "nbformat_minor": 5
}
